{
 "cells": [
  {
   "cell_type": "markdown",
   "metadata": {},
   "source": [
    "# Problem 2\n",
    "\n"
   ]
  },
  {
   "cell_type": "code",
   "execution_count": 7,
   "metadata": {},
   "outputs": [],
   "source": [
    "# Import libraries\n",
    "import pandas as pd\n",
    "from bs4 import BeautifulSoup\n",
    "import requests\n",
    "\n",
    "# Website url\n",
    "url = 'https://en.wikipedia.org/wiki/List_of_postal_codes_of_Canada:_M'\n",
    "\n",
    "# Scrapping data from thw website\n",
    "website_script = requests.get(url)  # Website script (download the HTML content)\n",
    "website_content = website_script.content  # Website content (HTML content)\n",
    "\n",
    "# Make HTML look Beautiful\n",
    "website_soup = BeautifulSoup(website_content, 'html.parser')\n",
    "\n",
    "\n",
    "# Get Toronto neighborhood dataframe\n",
    "def get_toronto_neighborhood_df(soup, table_class):\n",
    "    # Table data\n",
    "    table = soup.find_all('table', class_=table_class)\n",
    "\n",
    "    # Table dataframe\n",
    "    df = pd.read_html(str(table))[0]\n",
    "\n",
    "    # Remove rows where Borough is 'Not assigned'\n",
    "    df = df[df['Borough'] != 'Not assigned']\n",
    "\n",
    "    # Sort ascending values\n",
    "    df.sort_values(by=['Postal Code'], ascending=True, inplace=True)\n",
    "\n",
    "    # Return dataframe\n",
    "    return df\n",
    "\n",
    "\n",
    "# Get result dataframe\n",
    "def get_result_df(neighborhood_df):\n",
    "    # Latitude and Longitude dataframe\n",
    "    lat_lng_coords_df = pd.read_csv('https://cocl.us/Geospatial_data')\n",
    "\n",
    "    # The result of both dataframe\n",
    "    result_df = pd.merge(neighborhood_df, lat_lng_coords_df, on=\"Postal Code\")\n",
    "\n",
    "    # Rename Postal Code and Neighborhood column\n",
    "    result_df.rename(columns={\"Neighbourhood\": \"Neighborhood\", \"Postal Code\": \"PostalCode\"}, inplace=True)\n",
    "\n",
    "    # Reset index\n",
    "    result_df.reset_index(drop=True, inplace=True)\n",
    "\n",
    "    # Return result dataframe\n",
    "    return result_df\n",
    "\n",
    "\n",
    "# Dataframe\n",
    "toronto_neighborhood_df = get_toronto_neighborhood_df(website_soup, 'wikitable sortable') # Toronto neighborhood Dataframe\n",
    "result_df = get_result_df(toronto_neighborhood_df) # Result dataframe\n"
   ]
  },
  {
   "cell_type": "code",
   "execution_count": 8,
   "metadata": {},
   "outputs": [
    {
     "name": "stdout",
     "output_type": "stream",
     "text": [
      "   PostalCode      Borough                                       Neighborhood   Latitude  Longitude\n",
      "0         M1B  Scarborough                                     Malvern, Rouge  43.806686 -79.194353\n",
      "1         M1C  Scarborough             Rouge Hill, Port Union, Highland Creek  43.784535 -79.160497\n",
      "2         M1E  Scarborough                  Guildwood, Morningside, West Hill  43.763573 -79.188711\n",
      "3         M1G  Scarborough                                             Woburn  43.770992 -79.216917\n",
      "4         M1H  Scarborough                                          Cedarbrae  43.773136 -79.239476\n",
      "5         M1J  Scarborough                                Scarborough Village  43.744734 -79.239476\n",
      "6         M1K  Scarborough        Kennedy Park, Ionview, East Birchmount Park  43.727929 -79.262029\n",
      "7         M1L  Scarborough                    Golden Mile, Clairlea, Oakridge  43.711112 -79.284577\n",
      "8         M1M  Scarborough    Cliffside, Cliffcrest, Scarborough Village West  43.716316 -79.239476\n",
      "9         M1N  Scarborough                        Birch Cliff, Cliffside West  43.692657 -79.264848\n",
      "10        M1P  Scarborough  Dorset Park, Wexford Heights, Scarborough Town...  43.757410 -79.273304\n",
      "11        M1R  Scarborough                                  Wexford, Maryvale  43.750072 -79.295849\n"
     ]
    }
   ],
   "source": [
    "# Dataframe output\n",
    "print(result_df.head(12))\n"
   ]
  }
 ],
 "metadata": {
  "kernelspec": {
   "display_name": "Python 3",
   "language": "python",
   "name": "python3"
  },
  "language_info": {
   "codemirror_mode": {
    "name": "ipython",
    "version": 3
   },
   "file_extension": ".py",
   "mimetype": "text/x-python",
   "name": "python",
   "nbconvert_exporter": "python",
   "pygments_lexer": "ipython3",
   "version": "3.7.5"
  }
 },
 "nbformat": 4,
 "nbformat_minor": 4
}
