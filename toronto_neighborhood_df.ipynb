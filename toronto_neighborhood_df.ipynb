{
 "cells": [
  {
   "cell_type": "markdown",
   "metadata": {},
   "source": [
    "### Import libraries that we need"
   ]
  },
  {
   "cell_type": "code",
   "execution_count": 21,
   "metadata": {},
   "outputs": [],
   "source": [
    "# Import libraries\n",
    "import pandas as pd\n",
    "from bs4 import BeautifulSoup\n",
    "import requests\n",
    "\n",
    "# Expand pandas output\n",
    "pd.set_option('display.max_rows', 500)\n",
    "pd.set_option('display.max_columns', 500)\n",
    "pd.set_option('display.width', 1000)"
   ]
  },
  {
   "cell_type": "markdown",
   "metadata": {},
   "source": [
    "### Scrap data using BeautifulSoup"
   ]
  },
  {
   "cell_type": "code",
   "execution_count": 22,
   "metadata": {},
   "outputs": [],
   "source": [
    "# Website url\n",
    "url = 'https://en.wikipedia.org/wiki/List_of_postal_codes_of_Canada:_M'\n",
    "\n",
    "# Scrapping data from thw website\n",
    "website_script = requests.get(url)  # Website script (download the HTML content)\n",
    "website_content = website_script.content  # Website content (HTML content)\n",
    "\n",
    "# Make HTML look Beautiful\n",
    "website_soup = BeautifulSoup(website_content, 'html.parser')"
   ]
  },
  {
   "cell_type": "markdown",
   "metadata": {},
   "source": [
    "### Get Toronto neighborhood dataframe using pandas"
   ]
  },
  {
   "cell_type": "code",
   "execution_count": 23,
   "metadata": {},
   "outputs": [],
   "source": [
    "# Get Toronto neighborhood dataframe\n",
    "def get_toronto_neighborhood_df(soup, table_class):\n",
    "    # Table data\n",
    "    table = soup.find_all('table', class_=table_class)\n",
    "\n",
    "    # Table dataframe\n",
    "    toronto_neighborhood_df = pd.read_html(str(table))[0]\n",
    "\n",
    "    # Get names of indexes for which column have certain value\n",
    "    indexNames = toronto_neighborhood_df[toronto_neighborhood_df['Borough'] == 'Not assigned'].index\n",
    "\n",
    "    # Delete these row indexes from dataFrame\n",
    "    toronto_neighborhood_df.drop(indexNames, inplace=True)\n",
    "\n",
    "    # Reset index\n",
    "    toronto_neighborhood_df.reset_index(drop=True, inplace=True)\n",
    "\n",
    "    # Return dataframe\n",
    "    return toronto_neighborhood_df"
   ]
  },
  {
   "cell_type": "markdown",
   "metadata": {},
   "source": [
    "### Print output"
   ]
  },
  {
   "cell_type": "code",
   "execution_count": 24,
   "metadata": {},
   "outputs": [
    {
     "name": "stdout",
     "output_type": "stream",
     "text": [
      "Dataframe shape: (103, 3)\n",
      "   Postal Code           Borough                                      Neighbourhood\n",
      "0          M3A        North York                                          Parkwoods\n",
      "1          M4A        North York                                   Victoria Village\n",
      "2          M5A  Downtown Toronto                          Regent Park, Harbourfront\n",
      "3          M6A        North York                   Lawrence Manor, Lawrence Heights\n",
      "4          M7A  Downtown Toronto        Queen's Park, Ontario Provincial Government\n",
      "5          M9A         Etobicoke            Islington Avenue, Humber Valley Village\n",
      "6          M1B       Scarborough                                     Malvern, Rouge\n",
      "7          M3B        North York                                          Don Mills\n",
      "8          M4B         East York                    Parkview Hill, Woodbine Gardens\n",
      "9          M5B  Downtown Toronto                           Garden District, Ryerson\n",
      "10         M6B        North York                                          Glencairn\n",
      "11         M9B         Etobicoke  West Deane Park, Princess Gardens, Martin Grov...\n"
     ]
    }
   ],
   "source": [
    "# Data frame\n",
    "df = get_toronto_neighborhood_df(website_soup, 'wikitable sortable')\n",
    "\n",
    "# Dataframe shape\n",
    "print(\"Dataframe shape: {}\".format(df.shape))\n",
    "\n",
    "# Dataframe output\n",
    "print(df.head(12))"
   ]
  },
  {
   "cell_type": "code",
   "execution_count": null,
   "metadata": {},
   "outputs": [],
   "source": []
  }
 ],
 "metadata": {
  "kernelspec": {
   "display_name": "Python 3",
   "language": "python",
   "name": "python3"
  },
  "language_info": {
   "codemirror_mode": {
    "name": "ipython",
    "version": 3
   },
   "file_extension": ".py",
   "mimetype": "text/x-python",
   "name": "python",
   "nbconvert_exporter": "python",
   "pygments_lexer": "ipython3",
   "version": "3.7.4"
  }
 },
 "nbformat": 4,
 "nbformat_minor": 4
}
